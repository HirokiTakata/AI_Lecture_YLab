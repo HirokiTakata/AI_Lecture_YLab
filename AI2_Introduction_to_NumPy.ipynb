{
 "cells": [
  {
   "cell_type": "markdown",
   "metadata": {
    "colab_type": "text",
    "id": "o73mQgz3Bwet"
   },
   "source": [
    "# 基盤人工知能演習 第2回\n",
    "\n",
    "※本演習資料の二次配布・再配布はお断り致します。"
   ]
  },
  {
   "cell_type": "markdown",
   "metadata": {
    "colab_type": "text",
    "id": "rEZL_Kcdy_8d"
   },
   "source": [
    "# AI2 | NumPy入門\n",
    "\n",
    "　ベクトルや行列などの表現をはじめとして、Pythonでデータを処理するときに極めてよく使われるのがNumPyである。ここでは、基盤人工知能演習・基盤データサイエンス演習で必要になりうる機能や関数に絞って、使い方を紹介する。より詳細なチュートリアルは以下の資料を見ると良い。\n",
    "\n",
    "* [Chainer NumPy入門（日本語）](https://tutorials.chainer.org/ja/08_Introduction_to_NumPy.html)\n",
    "* [NumPy公式チュートリアル（英語）](https://docs.scipy.org/doc/numpy/user/quickstart.html)\n",
    "\n"
   ]
  },
  {
   "cell_type": "markdown",
   "metadata": {
    "colab_type": "text",
    "id": "MRXn-u6SVcgm"
   },
   "source": [
    "　NumPyのデータ構造や関数（メソッド）を用いる場合は、最初に以下のimport文を書く必要がある。`np`はそれ以外の名称にすることも可能だが、慣例的に`np`とされている。"
   ]
  },
  {
   "cell_type": "code",
   "execution_count": 0,
   "metadata": {
    "colab": {},
    "colab_type": "code",
    "id": "ZVres9eB0sBV"
   },
   "outputs": [],
   "source": [
    "import numpy as np # npという名前でNumPyを利用しますよ、という意味"
   ]
  },
  {
   "cell_type": "markdown",
   "metadata": {
    "colab_type": "text",
    "id": "clFlOuKshLJX"
   },
   "source": [
    "## AI2.1 | NumPy配列\n",
    "\n",
    "　NumPyの根幹をなすものがNumPyの配列 `np.array` である。 `np.array` はPythonの最初から準備されている配列とは大きく異なり、様々な便利な挙動を示す。"
   ]
  },
  {
   "cell_type": "markdown",
   "metadata": {
    "colab_type": "text",
    "id": "9HUtJEzmk4y3"
   },
   "source": [
    "　まずは、NumPy配列を定義してみる。 `np.array()` という関数のようなものの引数にpythonの配列 `list` を入れることで作ることができる（補足資料 **※1**）。"
   ]
  },
  {
   "cell_type": "code",
   "execution_count": 0,
   "metadata": {
    "colab": {},
    "colab_type": "code",
    "id": "rd9b4IwylIws"
   },
   "outputs": [],
   "source": [
    "arr = np.array([1, 2, 3])\n",
    "print(arr)\n",
    "print(arr.shape) # arrの形状の確認"
   ]
  },
  {
   "cell_type": "markdown",
   "metadata": {
    "colab_type": "text",
    "id": "guz8IBUplFVD"
   },
   "source": [
    "　同様に、行列のような縦横二次元の配列も表現することができる。"
   ]
  },
  {
   "cell_type": "code",
   "execution_count": 0,
   "metadata": {
    "colab": {},
    "colab_type": "code",
    "id": "uDQGW4mPlgVg"
   },
   "outputs": [],
   "source": [
    "arr = np.array([[1, 2],\n",
    "                [3, 4],\n",
    "                [5, 6]])\n",
    "print(arr)\n",
    "print(arr.shape) # arrの形状の確認"
   ]
  },
  {
   "cell_type": "markdown",
   "metadata": {
    "colab_type": "text",
    "id": "o5xhI7AYmXBm"
   },
   "source": [
    "　次に、arr同士の加減乗除を行ってみる。Pythonの配列とは全く異なる挙動を示すことを確認してほしい。"
   ]
  },
  {
   "cell_type": "code",
   "execution_count": 0,
   "metadata": {
    "colab": {},
    "colab_type": "code",
    "id": "CYTdZBIfmomZ"
   },
   "outputs": [],
   "source": [
    "arr1 = np.array([1,2,3])\n",
    "arr2 = np.array([4,5,6])\n",
    "print(arr1 + arr2)\n",
    "print(arr1 - arr2)\n",
    "print(arr1 * arr2)\n",
    "print(arr1 / arr2)"
   ]
  },
  {
   "cell_type": "markdown",
   "metadata": {
    "colab_type": "text",
    "id": "ejvZRIUZmoJf"
   },
   "source": [
    "　上のセルの結果を見ると、2つの `np.array` 、 `arr1` と `arr2` の加減乗除はいずれも要素ごとの計算が行われている。\n",
    "\n",
    "　一方、元から存在しているPythonの配列 `list` は、2つの配列を結合することを足し算の記号 `+` で表している。"
   ]
  },
  {
   "cell_type": "code",
   "execution_count": 0,
   "metadata": {
    "colab": {},
    "colab_type": "code",
    "id": "7Dm6EPZEnOvc"
   },
   "outputs": [],
   "source": [
    "lst1 = [1,2,3]\n",
    "lst2 = [4,5,6]\n",
    "print(lst1 + lst2)"
   ]
  },
  {
   "cell_type": "markdown",
   "metadata": {
    "colab_type": "text",
    "id": "1AewBAvSna3F"
   },
   "source": [
    "　また、その他の演算 `-`, `*`, `/` はそれぞれ定義されていない。（エラーの内容を読むと良い）"
   ]
  },
  {
   "cell_type": "code",
   "execution_count": 0,
   "metadata": {
    "colab": {},
    "colab_type": "code",
    "id": "mpWRPzWznfbp"
   },
   "outputs": [],
   "source": [
    "print(lst1 - lst2)"
   ]
  },
  {
   "cell_type": "code",
   "execution_count": 0,
   "metadata": {
    "colab": {},
    "colab_type": "code",
    "id": "huXOqv0Qn7Cr"
   },
   "outputs": [],
   "source": [
    "print(lst1 * lst2)"
   ]
  },
  {
   "cell_type": "code",
   "execution_count": 0,
   "metadata": {
    "colab": {},
    "colab_type": "code",
    "id": "dwekpxMcn-Tb"
   },
   "outputs": [],
   "source": [
    "print(lst1 / lst2)"
   ]
  },
  {
   "cell_type": "markdown",
   "metadata": {
    "colab_type": "text",
    "id": "llzAKjBIoSQo"
   },
   "source": [
    "　また、 `np.array` で定義された二次元の配列についても同様に要素ごとの加減乗除が行われる。"
   ]
  },
  {
   "cell_type": "code",
   "execution_count": 0,
   "metadata": {
    "colab": {},
    "colab_type": "code",
    "id": "Tfy67Z4NohIj"
   },
   "outputs": [],
   "source": [
    "arr1 = np.array([[1,2,3],\n",
    "                 [4,5,6]])\n",
    "arr2 = np.array([[2,3,4],\n",
    "                 [5,6,7]])\n",
    "print(arr1 + arr2)\n",
    "print(arr1 - arr2)\n",
    "print(arr1 * arr2)\n",
    "print(arr1 / arr2)"
   ]
  },
  {
   "cell_type": "markdown",
   "metadata": {
    "colab_type": "text",
    "id": "0UO6yUmzo1te"
   },
   "source": [
    "　次に、 `np.array` とスカラー値との四則演算を行ってみよう。"
   ]
  },
  {
   "cell_type": "code",
   "execution_count": 0,
   "metadata": {
    "colab": {},
    "colab_type": "code",
    "id": "A5PM4x-Mo-71"
   },
   "outputs": [],
   "source": [
    "arr1 = np.array([1,2,3])\n",
    "print(arr1 + 2)\n",
    "print(arr1 - 2)\n",
    "print(arr1 * 2)\n",
    "print(arr1 / 2)"
   ]
  },
  {
   "cell_type": "code",
   "execution_count": 0,
   "metadata": {
    "colab": {},
    "colab_type": "code",
    "id": "Tgd-VI8FpMG_"
   },
   "outputs": [],
   "source": [
    "arr2 = np.array([[1,2,3], \n",
    "                 [4,5,6]])\n",
    "print(arr2 + 2)\n",
    "print(arr2 - 2)\n",
    "print(arr2 * 2)\n",
    "print(arr2 / 2)"
   ]
  },
  {
   "cell_type": "markdown",
   "metadata": {
    "colab_type": "text",
    "id": "DECMDhzLpi54"
   },
   "source": [
    "　このように、各要素に対する計算が行われる。"
   ]
  },
  {
   "cell_type": "markdown",
   "metadata": {
    "colab_type": "text",
    "id": "FrJpIuXh2iVN"
   },
   "source": [
    "　なお、`np.array`は Python に元から定義されている配列`list`とは異なり、`append()`などは用意されていない。そのような使い方をしたい場合には配列`list`を準備し、最後に `np.array(lst)` を行おう。"
   ]
  },
  {
   "cell_type": "code",
   "execution_count": 0,
   "metadata": {
    "colab": {},
    "colab_type": "code",
    "id": "RoBC2Zpn2rek"
   },
   "outputs": [],
   "source": [
    "arr = np.array([1, 2, 3])\n",
    "arr.append(4) # これは不可能"
   ]
  },
  {
   "cell_type": "code",
   "execution_count": 0,
   "metadata": {
    "colab": {},
    "colab_type": "code",
    "id": "PfVUBerj3h5h"
   },
   "outputs": [],
   "source": [
    "lst = [1,2,3]\n",
    "lst.append(4)       # これは可能なので\n",
    "arr = np.array(lst) # こうすれば4つの要素からなるnp.arrayを構成できる\n",
    "print(arr)"
   ]
  },
  {
   "cell_type": "markdown",
   "metadata": {
    "colab_type": "text",
    "id": "Yffb_lDZ0IQ8"
   },
   "source": [
    "## AI2.2 | ベクトルと行列\n",
    "\n",
    "　ここまで、 `np.array` の四則演算に関する基本的な挙動を見てきたが、線形代数では例えば**行列積の計算**や、**行列とベクトルの積**、あるいは**ベクトル同士の内積**等を行う必要がある。対する基盤人工知能 第2回の講義では、線形代数の復習を行った。それらを数値的に計算することを行っていく。\n",
    "\n",
    "　なお、**線形代数におけるベクトルを定義する際には、縦ベクトルか横ベクトルかを明示的にするために、2次元配列として定義してほしい**（例えば、縦ベクトルはn行1列の行列として扱う、など）。\n",
    "\n"
   ]
  },
  {
   "cell_type": "code",
   "execution_count": 0,
   "metadata": {
    "colab": {},
    "colab_type": "code",
    "id": "HFwSl49Z08eN"
   },
   "outputs": [],
   "source": [
    "vector = np.array([[1],\n",
    "                   [2], \n",
    "                   [3]]) # 3つの要素からなる縦ベクトル\n",
    "matrix = np.array([[1, 2],\n",
    "                   [3, 4],\n",
    "                   [5, 6]])  # 3行2列の行列\n",
    "print(\"print(vector)\")\n",
    "print(vector)\n",
    "print(\"print(matrix)\")\n",
    "print(matrix)"
   ]
  },
  {
   "cell_type": "markdown",
   "metadata": {
    "colab_type": "text",
    "id": "clvor9uyOKfN"
   },
   "source": [
    "　作成したベクトルや行列の形状は`vector.shape`、`matrix.shape`で確認可能である。"
   ]
  },
  {
   "cell_type": "code",
   "execution_count": 0,
   "metadata": {
    "colab": {},
    "colab_type": "code",
    "id": "fWowpyjqOWcM"
   },
   "outputs": [],
   "source": [
    "print(vector.shape) # 3つの要素からなる縦ベクトル -> (3, 1)\n",
    "print(matrix.shape) # 3行2列の行列                -> (3, 2)"
   ]
  },
  {
   "cell_type": "markdown",
   "metadata": {
    "colab_type": "text",
    "id": "G8X41i5xI5WI"
   },
   "source": [
    "　ベクトルや行列の要素は、以下のように1つ1つの値を出力したり、書き換えることが可能である。"
   ]
  },
  {
   "cell_type": "code",
   "execution_count": 0,
   "metadata": {
    "colab": {},
    "colab_type": "code",
    "id": "2JdwBAMBJDEC"
   },
   "outputs": [],
   "source": [
    "print(vector[1,0]) \n",
    "print(matrix[1,1]) # カンマで区切って1行1列（一般的な表現では2行2列）の要素を取る"
   ]
  },
  {
   "cell_type": "code",
   "execution_count": 0,
   "metadata": {
    "colab": {},
    "colab_type": "code",
    "id": "MviKwlSaJP20"
   },
   "outputs": [],
   "source": [
    "matrix[1,0] = 100 # 書き換え\n",
    "print(matrix)     # 書き換えが反映されていることを確認"
   ]
  },
  {
   "cell_type": "markdown",
   "metadata": {
    "colab_type": "text",
    "id": "x6sQmdZsKwEF"
   },
   "source": [
    "　また、行列のある1列、1行だけを取り出したい場合にはコロン <code>:</code>を利用する。"
   ]
  },
  {
   "cell_type": "code",
   "execution_count": 0,
   "metadata": {
    "colab": {},
    "colab_type": "code",
    "id": "yYS4F8GWK55c"
   },
   "outputs": [],
   "source": [
    "print(matrix[0, :]) # 0行目を取り出す（2次元配列ではなく1次元配列になるので注意）\n",
    "print(matrix[:, 0]) # 0列目を取り出す（2次元配列ではなく1次元配列になるので注意）"
   ]
  },
  {
   "cell_type": "markdown",
   "metadata": {
    "colab_type": "text",
    "id": "n4Pq5jbnAf8W"
   },
   "source": [
    "## AI2.3 | 行列・ベクトルの転置\n",
    "\n",
    "　行列の転置は非常に簡単であり、 `mat.T` `vec.T` とすれば転置した行列を得ることができる。\n"
   ]
  },
  {
   "cell_type": "code",
   "execution_count": 0,
   "metadata": {
    "colab": {},
    "colab_type": "code",
    "id": "ruhmldL_AuTV"
   },
   "outputs": [],
   "source": [
    "mat = np.array([[1,2],\n",
    "                [3,4]])\n",
    "print(mat)\n",
    "print(mat.T)\n",
    "print(mat.T.dot(mat)) # そのまま別の演算をつなげることも可能"
   ]
  },
  {
   "cell_type": "markdown",
   "metadata": {
    "colab_type": "text",
    "id": "bt5sXZsnHDHQ"
   },
   "source": [
    "　正しく、$\\mathrm{mat}^\\mathrm{T} = \\begin{bmatrix}\n",
    "1 & 2 \\\\\n",
    "3 & 4 \\\\\n",
    "\\end{bmatrix}^\\mathrm{T} = \\begin{bmatrix}\n",
    "1 & 3 \\\\\n",
    "2 & 4 \\\\\n",
    "\\end{bmatrix}$ となっている。"
   ]
  },
  {
   "cell_type": "markdown",
   "metadata": {
    "colab_type": "text",
    "id": "8IT23rtR6qa6"
   },
   "source": [
    "## AI2.4 | 行列積、行列とベクトルの積、ベクトル間の内積\n",
    "　AI2.1で説明したように、2次元配列の`np.array`同士の積を `mat * mat` と記述しても、要素ごとの積を行ってしまい、行列積を行うことはできない。"
   ]
  },
  {
   "cell_type": "code",
   "execution_count": 0,
   "metadata": {
    "colab": {},
    "colab_type": "code",
    "id": "sdomFPRD7crI"
   },
   "outputs": [],
   "source": [
    "mat1 = np.array([[1, 2],\n",
    "                 [3, 4]])\n",
    "mat2 = np.array([[5, 6],\n",
    "                 [7, 8]])\n",
    "print(mat1 * mat2) # 結果を確認してみよ"
   ]
  },
  {
   "cell_type": "markdown",
   "metadata": {
    "colab_type": "text",
    "id": "vQM0rLMM7zLS"
   },
   "source": [
    "　行列積を行う場合には、以下のように、`np.dot()` あるいは`arr.dot()` を利用する。"
   ]
  },
  {
   "cell_type": "code",
   "execution_count": 0,
   "metadata": {
    "colab": {},
    "colab_type": "code",
    "id": "XvTrMOKs8DEg"
   },
   "outputs": [],
   "source": [
    "print(mat1.dot(mat2))     # mat1 mat2 の行列積\n",
    "print(np.dot(mat1, mat2)) # こっちも同じ意味"
   ]
  },
  {
   "cell_type": "code",
   "execution_count": 0,
   "metadata": {
    "colab": {},
    "colab_type": "code",
    "id": "TfoFbVtkuVIQ"
   },
   "outputs": [],
   "source": [
    "print(mat2.dot(mat1))      # 行列の積は順序によって変わる\n",
    "print(np.dot(mat2, mat1))"
   ]
  },
  {
   "cell_type": "markdown",
   "metadata": {
    "colab_type": "text",
    "id": "1o9Tlg_auaoT"
   },
   "source": [
    "　同様に、行列とベクトルの積、ベクトル間の内積も `dot` を利用する。"
   ]
  },
  {
   "cell_type": "code",
   "execution_count": 0,
   "metadata": {
    "colab": {},
    "colab_type": "code",
    "id": "uHqtFVEMuf_Z"
   },
   "outputs": [],
   "source": [
    "mat = np.array([[1,2],\n",
    "                [3,4],\n",
    "                [5,6]])\n",
    "vec = np.array([1,2,3]).T \n",
    "print(vec.T.dot(mat)) # 答えは1行2列になる\n",
    "print(vec.T.dot(vec)) # 答えは1行1列の行列になる。スカラー値ではなく2次元配列であることに注意"
   ]
  },
  {
   "cell_type": "markdown",
   "metadata": {
    "colab_type": "text",
    "id": "Sy42o2rvv5nm"
   },
   "source": [
    "　もしベクトルの内積をスカラー値として取り出したい場合は、以下のように明示的に値を取り出そう。"
   ]
  },
  {
   "cell_type": "code",
   "execution_count": 0,
   "metadata": {
    "colab": {},
    "colab_type": "code",
    "id": "NBuCkFYVwG3l"
   },
   "outputs": [],
   "source": [
    "vec.T.dot(vec)[0,0] # 計算結果の0行0列を取り出す"
   ]
  },
  {
   "cell_type": "markdown",
   "metadata": {
    "colab_type": "text",
    "id": "8DqOzuKDDDNy"
   },
   "source": [
    "-----\n",
    "##### 課題 AI2.1\n",
    "　`A = np.array([[1, 2], [3, 4], [5, 6]]), b = np.array([[5, 6]])`の時、以下の4つについて、エラーが発生しないものはどれか。**自分の頭で予想した上で**、実際にコードを打って試してみよ。\n",
    "\n",
    "1. `A.dot(b)`\n",
    "2. `A.dot(b.T)`\n",
    "3. `b.dot(A)`\n",
    "4. `b.T.dot(A)`"
   ]
  },
  {
   "cell_type": "markdown",
   "metadata": {
    "colab_type": "text",
    "id": "NHrknZbtFhi_"
   },
   "source": [
    "--------------\n",
    "##### 課題 AI2.2（発展、提出する必要はありません）\n",
    "　ベクトルと行列を説明する一番最初に、**ベクトルを定義する際には、縦ベクトルか横ベクトルかを明示的にするために、2次元配列として定義してほしい**と記述した。\n",
    "\n",
    "　これに歯向かって、`A = np.array([[1, 2], [3, 4], [5, 6]]),` **`b = np.array([5, 6])`**と定義した時に、課題 AI2.1と同様の4種類についてコードを打って試してみよ。（bは縦ベクトルとも横ベクトルとも言えない挙動を示すはずである。）\n",
    "\n",
    "　さらに、`np.dot`に関する挙動を[公式リファレンス](https://docs.scipy.org/doc/numpy/reference/generated/numpy.dot.html)で確認し、なぜこのような挙動になるのか理解せよ。\n",
    "\n",
    "-------"
   ]
  },
  {
   "cell_type": "markdown",
   "metadata": {
    "colab_type": "text",
    "id": "b2x8BSP-9hRY"
   },
   "source": [
    "## AI2.5 | 1次元配列の縦ベクトル化、横ベクトル化\n",
    "\n",
    "　`np.array`の1次元配列を縦ベクトル、あるいは横ベクトルに書き換える必要が時々発生する。（cf. AI2.7 行列と1次元配列の結合）。\n",
    "その場合は、以下のように `np.newaxis` というキーワードを利用する。"
   ]
  },
  {
   "cell_type": "code",
   "execution_count": 0,
   "metadata": {
    "colab": {},
    "colab_type": "code",
    "id": "d4ThkXW0-WE5"
   },
   "outputs": [],
   "source": [
    "arr = np.array([1, 2, 3])\n",
    "v_vec = arr[:, np.newaxis] # 縦ベクトル（n行1列の行列）にする\n",
    "print(v_vec)"
   ]
  },
  {
   "cell_type": "code",
   "execution_count": 0,
   "metadata": {
    "colab": {},
    "colab_type": "code",
    "id": "XqT9bcPdMGqm"
   },
   "outputs": [],
   "source": [
    "arr = np.array([4, 5, 6])\n",
    "h_vec = arr[np.newaxis, :] # 横ベクトル（1行n列の行列）にする\n",
    "print(h_vec)"
   ]
  },
  {
   "cell_type": "markdown",
   "metadata": {
    "colab_type": "text",
    "id": "KTz3_-F35fGg"
   },
   "source": [
    "## AI2.6 | 単位行列、全ての要素が1であるようなベクトルや行列の作成\n",
    "\n",
    "　機械学習における演算では、単位行列や全ての要素が1であるような配列やベクトル、行列を利用することが多い。これらは要素を書き並べずとも、以下のコードで作成が可能である。"
   ]
  },
  {
   "cell_type": "code",
   "execution_count": 0,
   "metadata": {
    "colab": {},
    "colab_type": "code",
    "id": "5l4PkT9a6cbS"
   },
   "outputs": [],
   "source": [
    "# 単位行列\n",
    "matrix1 = np.eye(2) #2行2列の単位行列\n",
    "print(matrix1)"
   ]
  },
  {
   "cell_type": "code",
   "execution_count": 0,
   "metadata": {
    "colab": {},
    "colab_type": "code",
    "id": "AzlflRcr0HdX"
   },
   "outputs": [],
   "source": [
    "# 全ての要素が1であるような配列、ベクトル、行列\n",
    "arr  = np.ones(3)      # 3つの要素からなる配列\n",
    "vvec = np.ones((3,1))  # 3つの要素からなる縦ベクトル（3行1列の行列）\n",
    "hvec = np.ones((1,3))  # 3つの要素からなる横ベクトル（1行3列の行列）\n",
    "matrix2 = np.ones((3, 4)) # 3行4列の行列\n",
    "print(\"print(arr)\")\n",
    "print(arr)\n",
    "print(\"print(vvec)\")\n",
    "print(vvec)\n",
    "print(\"print(hvec)\")\n",
    "print(hvec)\n",
    "print(\"print(matrix2)\")\n",
    "print(matrix2)"
   ]
  },
  {
   "cell_type": "markdown",
   "metadata": {
    "colab_type": "text",
    "id": "MYZdAvMm9KV9"
   },
   "source": [
    "## AI2.7 | 行列と行列、行列とベクトル、行列と1次元配列の結合\n",
    "\n",
    "　`np.concatenate(), np.vstack(), np.hstack()`を使うことで2つ以上の行列の結合を行うことができる。"
   ]
  },
  {
   "cell_type": "code",
   "execution_count": 0,
   "metadata": {
    "colab": {},
    "colab_type": "code",
    "id": "X7PE20EX8g3x"
   },
   "outputs": [],
   "source": [
    "mat1 = np.array([[1, 2],\n",
    "                 [3, 4]])\n",
    "mat2 = np.array([[5, 6],\n",
    "                 [7, 8]])\n",
    "print(np.vstack([mat1, mat2]))              # 縦方向に結合\n",
    "print(np.concatenate([mat1, mat2], axis=0)) # 縦方向に結合、np.vstackと同じ\n",
    "\n",
    "print(np.hstack([mat1, mat2]))              # 横方向に結合\n",
    "print(np.concatenate([mat1, mat2], axis=1)) # 横方向に結合、np.hstackと同じ\n"
   ]
  },
  {
   "cell_type": "markdown",
   "metadata": {
    "colab_type": "text",
    "id": "hBD6Ju1M9ZOL"
   },
   "source": [
    "　`np.concatenate`や`np.vstack`, `np.hstack`は2次元配列同士にしか適用できないため、行列と1次元配列を結合する場合は AI2.5 の方法を用いて縦ベクトルか横ベクトルに変換する必要がある。行列や、結合する方向を意識して、縦ベクトルにするか横ベクトルにするか考えて結合させよう。"
   ]
  },
  {
   "cell_type": "code",
   "execution_count": 0,
   "metadata": {
    "colab": {},
    "colab_type": "code",
    "id": "FlwD3w5t_x8H"
   },
   "outputs": [],
   "source": [
    "mat = np.array([[1,2],\n",
    "                [3,4]])\n",
    "arr = np.array([5,6])\n",
    "h_vec = arr[np.newaxis, :]\n",
    "v_vec = arr[:, np.newaxis]\n",
    "\n",
    "print(np.vstack([mat, h_vec])) # 縦方向 (vertical)   に結合\n",
    "print(np.hstack([mat, v_vec])) # 横方向 (horizontal) に結合"
   ]
  },
  {
   "cell_type": "markdown",
   "metadata": {
    "colab_type": "text",
    "id": "nEGxlZ9aA1rm"
   },
   "source": [
    "## AI2.8 | 逆行列の計算\n",
    "\n",
    "　逆行列の計算は `np.linalg.inv()` 関数を用いる。linalgとは、linear algebra （線形代数）の略であり、複雑な演算が多数定義されている。"
   ]
  },
  {
   "cell_type": "code",
   "execution_count": 0,
   "metadata": {
    "colab": {},
    "colab_type": "code",
    "id": "ENwfw9jZA_hY"
   },
   "outputs": [],
   "source": [
    "mat1 = np.array([[1,2],\n",
    "                 [3,4]]) # 正則行列"
   ]
  },
  {
   "cell_type": "code",
   "execution_count": 0,
   "metadata": {
    "colab": {},
    "colab_type": "code",
    "id": "I9GfXX8GBR97"
   },
   "outputs": [],
   "source": [
    "print(np.linalg.inv(mat1)) \n",
    "print(np.linalg.inv(mat1).dot(mat1))  # 逆行列であることを確認"
   ]
  },
  {
   "cell_type": "markdown",
   "metadata": {
    "colab_type": "text",
    "id": "hi5Zr-b5CI_N"
   },
   "source": [
    "　Pythonの実数値は有限の桁数で計算を行うため、厳密には逆行列との行列積は単位行列にはならなかったが、 $1.11 \\times 10^{-16}$ は極めて小さな値なので0と見なして問題ない。このようなことはプログラミングにおける数値計算ではよくあることなので、**実数値を扱う時には微妙に値がずれることがある**ことを覚えておこう。\n",
    "\n",
    "　**逆行列の計算は次回の基盤人工知能演習で利用する**など、機械学習との関連性が深いため、後述の固有値・固有ベクトルの演算と共に、データサイエンスや機械学習を行う上で必須の知識と言ってよい。"
   ]
  },
  {
   "cell_type": "markdown",
   "metadata": {
    "colab_type": "text",
    "id": "h-yJW8h-_v5A"
   },
   "source": [
    "　ところで、逆行列が存在しないようなケースで、この関数はどういう挙動を示すだろうか。「正則でない正方行列」「正方でない行列」で試してみると、（正しく）エラーを発生させることが確認できる。"
   ]
  },
  {
   "cell_type": "code",
   "execution_count": 0,
   "metadata": {
    "colab": {},
    "colab_type": "code",
    "id": "Ix_wYQ_HBSyQ"
   },
   "outputs": [],
   "source": [
    "mat2 = np.array([[1, 1], \n",
    "                 [1, 1]])   # 正則でない正方行列\n",
    "print(np.linalg.inv(mat2))  # 正則でないため、LinAlgErrorが発生"
   ]
  },
  {
   "cell_type": "code",
   "execution_count": 0,
   "metadata": {
    "colab": {},
    "colab_type": "code",
    "id": "8F7S4mD6BVDh"
   },
   "outputs": [],
   "source": [
    "mat3 = np.ones((2, 3))      # 正方でない行列\n",
    "print(np.linalg.inv(mat3))  # 正方行列でないため、LinAlgErrorが発生"
   ]
  },
  {
   "cell_type": "markdown",
   "metadata": {
    "colab_type": "text",
    "id": "UMdfdYcoXjLn"
   },
   "source": [
    "------\n",
    "##### 課題 AI2.3\n",
    "\n",
    "　`X = np.array([[1, 2], [1, 3], [1, 5]]), y = np.array([[10, 15, 25]]).T` であるとき、$(X^TX)^{-1}X^Ty$ を計算せよ。\n",
    "課題提出時には、**小数点以下を四捨五入し、整数で答えること**。"
   ]
  },
  {
   "cell_type": "markdown",
   "metadata": {
    "colab_type": "text",
    "id": "bupU5bNcR7LX"
   },
   "source": [
    "------\n",
    "##### 課題 AI2.4\n",
    "\n",
    "　行列のサイズが N×N であるとする。Nが変化するとき、**逆行列の計算に必要な時間はおおよそNの何乗に比例するだろうか**。実際に単位行列 `np.eye(N)` に対して逆行列計算を行い、簡単に答えよ。（ヒント：N=2000の場合に1秒以下、N=8000の場合には50秒程度の計算時間を要するので、その周辺で数回計算を行い、計算速度を推定するのが良い）\n",
    "\n",
    "　時間計測は以下のコードで行うことができるので、適宜利用せよ。\n"
   ]
  },
  {
   "cell_type": "code",
   "execution_count": 0,
   "metadata": {
    "colab": {},
    "colab_type": "code",
    "id": "oWHG0FLU5RrV"
   },
   "outputs": [],
   "source": [
    "import time\n",
    "import numpy as np\n",
    "I = np.eye(2000)\n",
    "\n",
    "st = time.time() # 計算開始時刻\n",
    "Iinv = np.linalg.inv(I)\n",
    "ed = time.time() # 計算終了時刻\n",
    "print(ed - st) # 差を秒単位で計算"
   ]
  },
  {
   "cell_type": "markdown",
   "metadata": {
    "colab_type": "text",
    "id": "iI7wXQOBVUg_"
   },
   "source": [
    "---------"
   ]
  },
  {
   "cell_type": "markdown",
   "metadata": {
    "colab_type": "text",
    "id": "H3PEMDPp4lqs"
   },
   "source": [
    "## AI2.9 | 固有値・固有ベクトルの算出\n",
    "　次に、`np.linalg.eig()`を利用して、正方行列$A$の固有値・固有ベクトルを求めてみる。固有値、固有ベクトルとは、正方行列$A$に対して、$A x = \\lambda x$ を満たす$\\lambda, x (x\\neq0)$である。\n"
   ]
  },
  {
   "cell_type": "code",
   "execution_count": 0,
   "metadata": {
    "colab": {},
    "colab_type": "code",
    "id": "6QI6CGPC655b"
   },
   "outputs": [],
   "source": [
    "mat = np.array([[1,2],\n",
    "                [2,1]])\n",
    "lambdas, xs = np.linalg.eig(mat)\n",
    "print(lambdas[0], xs[:,0])\n",
    "print(lambdas[1], xs[:,1])"
   ]
  },
  {
   "cell_type": "markdown",
   "metadata": {
    "colab_type": "text",
    "id": "ppb4JrWH7f5a"
   },
   "source": [
    "　逆行列を求めた時と同様に微妙な誤差が発生しているが、以下の2つの等号が成り立っているようである。\n",
    "\n",
    "$\\begin{eqnarray}\n",
    "&A \\left[\\frac{1}{\\sqrt{2}}, \\frac{1}{\\sqrt{2}} \\right]^T &=& 3 \\left[\\frac{1}{\\sqrt{2}}, \\frac{1}{\\sqrt{2}} \\right]^T \\\\\n",
    "&A \\left[-\\frac{1}{\\sqrt{2}}, \\frac{1}{\\sqrt{2}} \\right]^T &=& -1 \\left[-\\frac{1}{\\sqrt{2}}, \\frac{1}{\\sqrt{2}} \\right]^T\n",
    "\\end{eqnarray}$\n"
   ]
  },
  {
   "cell_type": "markdown",
   "metadata": {
    "colab_type": "text",
    "id": "lcLkJ1rq8_4D"
   },
   "source": [
    "　一応、実際にこの等号が成り立っているか確認してみよう。"
   ]
  },
  {
   "cell_type": "code",
   "execution_count": 0,
   "metadata": {
    "colab": {},
    "colab_type": "code",
    "id": "_YpFg_IV9BK7"
   },
   "outputs": [],
   "source": [
    "print(mat.dot(xs[:,0]))     # 1つ目の左辺\n",
    "print(lambdas[0] * xs[:,0]) # 1つ目の右辺\n",
    "\n",
    "print(\"----------\")\n",
    "\n",
    "print(mat.dot(xs[:,1]))     # 2つ目の左辺\n",
    "print(lambdas[1] * xs[:,1]) # 2つ目の右辺"
   ]
  },
  {
   "cell_type": "code",
   "execution_count": 0,
   "metadata": {
    "colab": {},
    "colab_type": "code",
    "id": "NJNiFtig-3km"
   },
   "outputs": [],
   "source": [
    "# 実はまとめて計算できる\n",
    "# それぞれの計算結果が列ごとに得られている\n",
    "print(mat.dot(xs))\n",
    "print(lambdas * xs)"
   ]
  },
  {
   "cell_type": "markdown",
   "metadata": {
    "colab_type": "text",
    "id": "HDZk7qth6vFf"
   },
   "source": [
    "　出力される固有ベクトルは縦ベクトルが複数横に並べられていることに注意して欲しい。\n",
    "\n",
    "　固有値や固有ベクトルは、（基盤人工知能ではなく）基盤データサイエンスで講義が予定されている**「主成分分析 (Principal Component Analysis; PCA) 」**などの手法で利用されるので、しっかりとおさえておきたい。"
   ]
  },
  {
   "cell_type": "markdown",
   "metadata": {
    "colab_type": "text",
    "id": "Hqos8HzRRW2L"
   },
   "source": [
    "## AI2.10 | 行列の行単位・列単位の計算\n",
    "\n",
    "　Pythonにおける機械学習では、1行ごとに1つのデータ（例：英語・数学・化学・物理の得点）を置くことで行列を構成し、その行列に対する演算を行うようなことが多々発生する。そんなときに便利な機能をいくつか説明していく。"
   ]
  },
  {
   "cell_type": "code",
   "execution_count": 0,
   "metadata": {
    "colab": {},
    "colab_type": "code",
    "id": "ECQwvHuZTSCZ"
   },
   "outputs": [],
   "source": [
    "scores = np.array([[50, 50, 60, 50],  # 1人目の英語・数学・化学・物理の得点 \n",
    "                   [40, 80, 20, 10],  # 2人目の英語・数学・化学・物理の得点\n",
    "                   [90, 20, 40, 40]]) # 3人目"
   ]
  },
  {
   "cell_type": "markdown",
   "metadata": {
    "colab_type": "text",
    "id": "2iF1nwR3U7Ad"
   },
   "source": [
    "### AI2.10.1 | 行方向・列方向の集計"
   ]
  },
  {
   "cell_type": "markdown",
   "metadata": {
    "colab_type": "text",
    "id": "suwBnmHITmyt"
   },
   "source": [
    "　例えば、上記のような試験結果（＝データ）があるときに、以下のような値を求めたいとする。\n",
    "\n",
    "* 各教科の平均点\n",
    "* 各学生の合計点\n",
    "\n",
    "　これらを算出するには、行列の各行、あるいは各列の総和や平均値をとる必要があるが、これは以下のように計算を行うことができる。"
   ]
  },
  {
   "cell_type": "code",
   "execution_count": 0,
   "metadata": {
    "colab": {},
    "colab_type": "code",
    "id": "-RhDh_FPUS1N"
   },
   "outputs": [],
   "source": [
    "# 各教科の平均点\n",
    "print(scores.mean(axis=0)) # 各列の平均を求める\n",
    "# print(np.mean(scores, axis=0)) # 同じことができる"
   ]
  },
  {
   "cell_type": "code",
   "execution_count": 0,
   "metadata": {
    "colab": {},
    "colab_type": "code",
    "id": "vfUB5qxhUjGo"
   },
   "outputs": [],
   "source": [
    "# 各学生の合計点\n",
    "print(scores.sum(axis=1)) # 各行の総和を求める\n",
    "# print(np.sum(scores, axis=1)) # 同じことができる"
   ]
  },
  {
   "cell_type": "markdown",
   "metadata": {
    "colab_type": "text",
    "id": "e7xf6IzLUr8n"
   },
   "source": [
    "　このように、`axis`を指定することで、各行、各列の集計を簡単に行うことができる。"
   ]
  },
  {
   "cell_type": "markdown",
   "metadata": {
    "colab_type": "text",
    "id": "5jknARI8OPzr"
   },
   "source": [
    "### AI2.10.2 | ブロードキャスト：各行・各列への算術演算\n",
    "\n",
    "　次に、それぞれの学生の各教科の得点が、各教科の平均点からどれほど高いのか、あるいは低いのか計算したい場合を考える。\n",
    "\n",
    "　まず各教科の平均点を計算する。"
   ]
  },
  {
   "cell_type": "code",
   "execution_count": 0,
   "metadata": {
    "colab": {},
    "colab_type": "code",
    "id": "IdJEAfBjVsDR"
   },
   "outputs": [],
   "source": [
    "averages = scores.mean(axis=0)"
   ]
  },
  {
   "cell_type": "markdown",
   "metadata": {
    "colab_type": "text",
    "id": "-o6hjnjtV0Es"
   },
   "source": [
    "　次に、それぞれの学生の各教科の得点と、平均点との差を計算するのだが、これは以下のように簡単に計算することができる。"
   ]
  },
  {
   "cell_type": "code",
   "execution_count": 0,
   "metadata": {
    "colab": {},
    "colab_type": "code",
    "id": "31M75oqtWEqQ"
   },
   "outputs": [],
   "source": [
    "print(scores - averages)"
   ]
  },
  {
   "cell_type": "markdown",
   "metadata": {
    "colab_type": "text",
    "id": "5YjzQjd4WH9V"
   },
   "source": [
    "　この引き算は行列 `scores` と 1次元配列 `averages` との間で行われていることに注意しなければならない。\n",
    "NumPyでは**行列の列数と1次元配列の要素数が一致している場合**に限り、**行列の各行に対して**1次元配列との算術演算が行える（補足資料 **※2**）。これを**ブロードキャスト**と言う。\n",
    "\n",
    "　ブロードキャストは極めて便利である一方、**行列、ベクトル、1次元配列のサイズの意識がおろそかになり、行と列を間違えた計算を引き起こす原因にもなる**。行列などのサイズを意識し、**想定通りの結果になっているかどうか、適宜`print()`を行いながらコードを記述することが大切**である。"
   ]
  },
  {
   "cell_type": "markdown",
   "metadata": {
    "colab_type": "text",
    "id": "OO4pvVVNFeZb"
   },
   "source": [
    "　例えば、以下のような**axis指定を忘れた**というコードミスを行ってみよう。`mean()`でaxis指定を忘れると、**行列内の全要素の平均値**を算出してしまう。"
   ]
  },
  {
   "cell_type": "code",
   "execution_count": 0,
   "metadata": {
    "colab": {},
    "colab_type": "code",
    "id": "0ck9JTpZFwR7"
   },
   "outputs": [],
   "source": [
    "# axisを指定し忘れてみる\n",
    "averages = scores.mean() # あっ\n",
    "print(scores - averages) # エラーは発生しなかった、しかし想定通りの答えではない"
   ]
  },
  {
   "cell_type": "markdown",
   "metadata": {
    "colab_type": "text",
    "id": "jCp3faCHHJjy"
   },
   "source": [
    "　axis指定を行わない `mean()` は全要素の平均を算出するので、スカラー値になる。行列とスカラー値の減算はAI2.1で説明した通りに実行できてしまうので、**エラーは発生しない**。しかし、その結果は各教科の平均点からの差分、という当初の目的とは異なったものになっている。このように**「文法は合っているが、論理的には間違っている」バグは発見が難しい**ので、先ほど述べたように `print()` を行うなどして間違っていないか確認するようにしよう。"
   ]
  },
  {
   "cell_type": "code",
   "execution_count": 0,
   "metadata": {
    "colab": {},
    "colab_type": "code",
    "id": "L6agywxrIm8d"
   },
   "outputs": [],
   "source": [
    "print(scores.mean()) # あれっ、想定と違って1つの値しか出てきてない。バグだ！"
   ]
  },
  {
   "cell_type": "markdown",
   "metadata": {
    "colab_type": "text",
    "id": "3OqqU2CDXmgx"
   },
   "source": [
    "-----\n",
    "##### 課題 AI2.5\n",
    "\n",
    "　上記 `scores` を用いて、この3人の各教科の偏差値を算出せよ。 ただし、学生 $i$ の教科 $x$ における偏差値は以下の計算式で計算できる。\n",
    "\n",
    "$\\begin{eqnarray*}\n",
    "T_{i, x} = \\frac{10(x_i - \\mu_x)}{\\sigma_x} + 50\n",
    "\\end{eqnarray*}$\n",
    "\n",
    "$x_i$ は学生 $i$ の 教科 $x$ の得点、$\\mu_x, \\sigma_x$は教科 $x$ の平均点と標準偏差である。\n",
    "\n",
    "　課題提出時には、**小数点以下は四捨五入し、整数で答えよ**。\n",
    "\n",
    "（ヒント：`std()`を用いることで標準偏差を計算することができる。axisに注意せよ。）\n",
    "\n",
    "-----"
   ]
  },
  {
   "cell_type": "markdown",
   "metadata": {
    "colab_type": "text",
    "id": "37DMY818jzZy"
   },
   "source": [
    "# レポート提出について\n",
    "\n"
   ]
  },
  {
   "cell_type": "markdown",
   "metadata": {
    "colab_type": "text",
    "id": "rLzUiGyLXOdo"
   },
   "source": [
    "## レポートの提出方法\n",
    "\n",
    "　レポートは**答案テンプレートを用い**、**1つのファイル（.doc, .docx, .pdf）**にまとめ、**学籍番号と氏名を確認の上**、**12月19日 15:00（次回 基盤人工知能演習）までに東工大ポータルのOCW-iから提出**すること。\n",
    "ファイルのアップロード後、OCW-iで「提出済」というアイコンが表示されていることを必ず確認すること。それ以外の場合は未提出扱いとなるので十分注意すること。\n",
    "また、締め切りを過ぎるとファイルの提出ができないため、時間に余裕を持って提出を行うこと。\n"
   ]
  },
  {
   "cell_type": "markdown",
   "metadata": {
    "colab_type": "text",
    "id": "2z6NkAX-3IQG"
   },
   "source": [
    "## 答案テンプレート\n",
    "\n",
    "```\n",
    "学籍番号:\n",
    "名前:\n",
    "\n",
    "課題 AI2.1\n",
    "エラーが発生しないもの：__________\n",
    "\n",
    "課題 AI2.3\n",
    "(X^T X)^{-1} X^T y = _________________\n",
    "\n",
    "課題 AI2.4\n",
    "逆行列の計算に必要な時間はおおよそNの_____乗に比例する。\n",
    "\n",
    "課題 AI2.5\n",
    "1人目： _____, _____, _____, _____\n",
    "2人目： _____, _____, _____, _____\n",
    "3人目： _____, _____, _____, _____\n",
    "```"
   ]
  },
  {
   "cell_type": "markdown",
   "metadata": {
    "colab_type": "text",
    "id": "PDGf6BSzzM-q"
   },
   "source": [
    "## 補足資料\n",
    "\n",
    "\n"
   ]
  },
  {
   "cell_type": "markdown",
   "metadata": {
    "colab_type": "text",
    "id": "xRDd51SmN7D2"
   },
   "source": [
    "### ※1 np.array()の正体\n",
    "　本文では「関数のようなもの」と表現したが、実際には`np.array`は**クラス**であり、`np.array()`クラスの**コンストラクタ**、それによって作られる`vec`や`mat`などは**インスタンス**と呼ばれるものである。\n",
    "\n",
    "　このあたりについては、「オブジェクト指向」という単語でGoogle検索を行うと、理解が深まるかもしれない。"
   ]
  },
  {
   "cell_type": "markdown",
   "metadata": {
    "colab_type": "text",
    "id": "zxb6V-KgN59r"
   },
   "source": [
    "### ※2 ブロードキャストについて\n",
    "　本文中で記載したブロードキャストが行われる条件は正確には不十分であり、ChainerのNumPy入門の説明を借りると「**2つの配列の各次元が同じ大きさになっているか、どちらかが1である**」ときにブロードキャストが可能である。"
   ]
  },
  {
   "cell_type": "code",
   "execution_count": 0,
   "metadata": {
    "colab": {},
    "colab_type": "code",
    "id": "CqoMRWgCNmGM"
   },
   "outputs": [],
   "source": [
    "Ma = np.array([[1, 2], [3, 4], [5, 6]])\n",
    "Mb = np.array([[7, 8]])\n",
    "Mc = np.array([[9],[10]])\n",
    "print(Ma.shape)\n",
    "print(Mb.shape) \n",
    "print(Mc.shape)"
   ]
  },
  {
   "cell_type": "code",
   "execution_count": 0,
   "metadata": {
    "colab": {},
    "colab_type": "code",
    "id": "L5_C1uF9NfJb"
   },
   "outputs": [],
   "source": [
    "print(Ma + Mb) # (3,2)と(1,2)は条件を満たすので演算可能"
   ]
  },
  {
   "cell_type": "code",
   "execution_count": 0,
   "metadata": {
    "colab": {},
    "colab_type": "code",
    "id": "Q5uoxqxJPEdI"
   },
   "outputs": [],
   "source": [
    "print(Ma + Mc) # (3,2)と(2,1)は条件を満たさないのでエラー"
   ]
  },
  {
   "cell_type": "markdown",
   "metadata": {
    "colab_type": "text",
    "id": "jLxOgrg6PLkB"
   },
   "source": [
    "　2次元配列と1次元配列の間のブロードキャストの場合、**次元数の少ないベクトル側を`np.newaxis`を利用して行列にして**、同じ演算を行う。"
   ]
  },
  {
   "cell_type": "code",
   "execution_count": 0,
   "metadata": {
    "colab": {},
    "colab_type": "code",
    "id": "DSl1Qgn6PI0Z"
   },
   "outputs": [],
   "source": [
    "M = np.array([[1, 2, 3], [4, 5, 6]])\n",
    "v = np.array([7, 8, 9])\n",
    "print(M.shape)\n",
    "print(v.shape)"
   ]
  },
  {
   "cell_type": "code",
   "execution_count": 0,
   "metadata": {
    "colab": {},
    "colab_type": "code",
    "id": "UMBtXSwGP4pP"
   },
   "outputs": [],
   "source": [
    "print(M + v)\n",
    "print(M + v[np.newaxis, :]) # 同じ意味"
   ]
  },
  {
   "cell_type": "markdown",
   "metadata": {
    "colab_type": "text",
    "id": "Z9AYnkob4OMz"
   },
   "source": [
    "　より詳しい情報は[公式リファレンス](https://docs.scipy.org/doc/numpy/user/basics.broadcasting.html)を参照してほしい。"
   ]
  }
 ],
 "metadata": {
  "colab": {
   "collapsed_sections": [],
   "name": "AI2_Introduction_to_NumPy",
   "provenance": [],
   "toc_visible": true
  },
  "kernelspec": {
   "display_name": "Python 3",
   "language": "python",
   "name": "python3"
  },
  "language_info": {
   "codemirror_mode": {
    "name": "ipython",
    "version": 3
   },
   "file_extension": ".py",
   "mimetype": "text/x-python",
   "name": "python",
   "nbconvert_exporter": "python",
   "pygments_lexer": "ipython3",
   "version": "3.6.9"
  }
 },
 "nbformat": 4,
 "nbformat_minor": 1
}
